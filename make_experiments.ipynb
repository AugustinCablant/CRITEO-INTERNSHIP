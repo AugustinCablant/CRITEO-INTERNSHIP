{
 "cells": [
  {
   "cell_type": "code",
   "execution_count": 2,
   "id": "76a6e31c",
   "metadata": {},
   "outputs": [],
   "source": [
    "from src.utils.utils import get_algo_by_name, get_env_by_name\n",
    "from src.utils.save_results import get_task_name, get_metrics_information, get_results_file_name\n",
    "import numpy as np\n",
    "import time\n",
    "import os\n",
    "from datetime import date\n",
    "from tqdm import tqdm\n",
    "from tqdm.notebook import trange, tqdm\n",
    "today = date.today()\n",
    "import matplotlib.pyplot as plt\n",
    "\n",
    "\n",
    "def do_single_experiment(rd, settings):\n",
    "    env = get_env_by_name(settings)\n",
    "    env.set()\n",
    "    agent = get_algo_by_name(settings)\n",
    "    agent.set_environment(env)\n",
    "    metrics = agent.iterate_learning()\n",
    "    return metrics"
   ]
  },
  {
   "cell_type": "code",
   "execution_count": 3,
   "id": "932a9100",
   "metadata": {},
   "outputs": [],
   "source": [
    "nb_rds = 20\n",
    "max_rounds = 1000\n",
    "# nb_leaves_per_class = 10\n",
    "nb_levels = 2\n",
    "\n",
    "def do_paradox_experiment(nb_childs):\n",
    "\n",
    "    exp3_regrets = np.zeros((nb_rds, int(max_rounds/100)))\n",
    "    exp3_rewards = np.zeros((nb_rds, int(max_rounds/100)))\n",
    "    new_regrets = np.zeros((nb_rds, int(max_rounds/100)))\n",
    "    new_rewards = np.zeros((nb_rds, int(max_rounds/100)))\n",
    "\n",
    "    for rd in range(nb_rds):\n",
    "        settings = {\n",
    "            'rd': rd,\n",
    "            'max_rounds': max_rounds,\n",
    "            'nb_leaves_per_class': nb_childs,\n",
    "            'nb_levels': nb_levels,\n",
    "            'env': 'paradox',\n",
    "            'algo': 'exp3',\n",
    "        }\n",
    "        metrics = do_single_experiment(rd, settings)\n",
    "        rounds = metrics['round']\n",
    "        exp3_regrets[rd] = metrics['regret']\n",
    "        exp3_rewards[rd] = metrics['reward']\n",
    "        \n",
    "        settings['algo'] = 'new'\n",
    "        metrics = do_single_experiment(rd, settings)\n",
    "        rounds = metrics['round']\n",
    "        new_regrets[rd] = metrics['regret']\n",
    "        new_rewards[rd] = metrics['reward']\n",
    "\n",
    "    # EXP3\n",
    "    exp3_rgrt_std = np.std(exp3_regrets, axis=0)\n",
    "    exp3_rwd_std = np.std(exp3_rewards, axis=0)\n",
    "    exp3_regret = np.mean(exp3_regrets, axis=0)\n",
    "    exp3_reward = np.mean(exp3_rewards, axis=0)\n",
    "    \n",
    "    exp3_result = (exp3_regret, exp3_rgrt_std, exp3_reward, exp3_rwd_std)\n",
    "\n",
    "    # NEW\n",
    "    new_rgrt_std = np.std(new_regrets, axis=0)\n",
    "    new_rwd_std = np.std(new_rewards, axis=0)\n",
    "    new_regret = np.mean(new_regrets, axis=0) \n",
    "    new_reward = np.mean(new_rewards, axis=0)\n",
    "    \n",
    "    new_result = (new_regret, new_rgrt_std, new_reward, new_rwd_std)\n",
    "    \n",
    "    return exp3_result, new_result, list(np.array(exp3_regrets)[:,-1]), list(np.array(new_regrets)[:,-1])"
   ]
  },
  {
   "cell_type": "code",
   "execution_count": 4,
   "id": "5650a0c0",
   "metadata": {},
   "outputs": [
    {
     "ename": "AttributeError",
     "evalue": "module 'src.environment.env' has no attribute 'BlueBusRedBusEnvironment'",
     "output_type": "error",
     "traceback": [
      "\u001b[0;31m---------------------------------------------------------------------------\u001b[0m",
      "\u001b[0;31mAttributeError\u001b[0m                            Traceback (most recent call last)",
      "Cell \u001b[0;32mIn[4], line 10\u001b[0m\n\u001b[1;32m      7\u001b[0m new_results \u001b[38;5;241m=\u001b[39m []\n\u001b[1;32m      9\u001b[0m \u001b[38;5;28;01mfor\u001b[39;00m nb_child \u001b[38;5;129;01min\u001b[39;00m nb_childs:\n\u001b[0;32m---> 10\u001b[0m     a,b,c,d \u001b[38;5;241m=\u001b[39m \u001b[43mdo_paradox_experiment\u001b[49m\u001b[43m(\u001b[49m\u001b[43mnb_child\u001b[49m\u001b[43m)\u001b[49m\n\u001b[1;32m     11\u001b[0m     res_exp3\u001b[38;5;241m.\u001b[39mappend(\u001b[38;5;28mlist\u001b[39m(c))\n\u001b[1;32m     12\u001b[0m     res_nexp\u001b[38;5;241m.\u001b[39mappend(d)\n",
      "Cell \u001b[0;32mIn[3], line 22\u001b[0m, in \u001b[0;36mdo_paradox_experiment\u001b[0;34m(nb_childs)\u001b[0m\n\u001b[1;32m     13\u001b[0m \u001b[38;5;28;01mfor\u001b[39;00m rd \u001b[38;5;129;01min\u001b[39;00m \u001b[38;5;28mrange\u001b[39m(nb_rds):\n\u001b[1;32m     14\u001b[0m     settings \u001b[38;5;241m=\u001b[39m {\n\u001b[1;32m     15\u001b[0m         \u001b[38;5;124m'\u001b[39m\u001b[38;5;124mrd\u001b[39m\u001b[38;5;124m'\u001b[39m: rd,\n\u001b[1;32m     16\u001b[0m         \u001b[38;5;124m'\u001b[39m\u001b[38;5;124mmax_rounds\u001b[39m\u001b[38;5;124m'\u001b[39m: max_rounds,\n\u001b[0;32m   (...)\u001b[0m\n\u001b[1;32m     20\u001b[0m         \u001b[38;5;124m'\u001b[39m\u001b[38;5;124malgo\u001b[39m\u001b[38;5;124m'\u001b[39m: \u001b[38;5;124m'\u001b[39m\u001b[38;5;124mexp3\u001b[39m\u001b[38;5;124m'\u001b[39m,\n\u001b[1;32m     21\u001b[0m     }\n\u001b[0;32m---> 22\u001b[0m     metrics \u001b[38;5;241m=\u001b[39m \u001b[43mdo_single_experiment\u001b[49m\u001b[43m(\u001b[49m\u001b[43mrd\u001b[49m\u001b[43m,\u001b[49m\u001b[43m \u001b[49m\u001b[43msettings\u001b[49m\u001b[43m)\u001b[49m\n\u001b[1;32m     23\u001b[0m     rounds \u001b[38;5;241m=\u001b[39m metrics[\u001b[38;5;124m'\u001b[39m\u001b[38;5;124mround\u001b[39m\u001b[38;5;124m'\u001b[39m]\n\u001b[1;32m     24\u001b[0m     exp3_regrets[rd] \u001b[38;5;241m=\u001b[39m metrics[\u001b[38;5;124m'\u001b[39m\u001b[38;5;124mregret\u001b[39m\u001b[38;5;124m'\u001b[39m]\n",
      "Cell \u001b[0;32mIn[2], line 14\u001b[0m, in \u001b[0;36mdo_single_experiment\u001b[0;34m(rd, settings)\u001b[0m\n\u001b[1;32m     13\u001b[0m \u001b[38;5;28;01mdef\u001b[39;00m\u001b[38;5;250m \u001b[39m\u001b[38;5;21mdo_single_experiment\u001b[39m(rd, settings):\n\u001b[0;32m---> 14\u001b[0m     env \u001b[38;5;241m=\u001b[39m \u001b[43mget_env_by_name\u001b[49m\u001b[43m(\u001b[49m\u001b[43msettings\u001b[49m\u001b[43m)\u001b[49m\n\u001b[1;32m     15\u001b[0m     env\u001b[38;5;241m.\u001b[39mset()\n\u001b[1;32m     16\u001b[0m     agent \u001b[38;5;241m=\u001b[39m get_algo_by_name(settings)\n",
      "File \u001b[0;32m~/Documents/GitHub/CRITEO-INTERNSHIP/src/utils/utils.py:34\u001b[0m, in \u001b[0;36mget_env_by_name\u001b[0;34m(settings)\u001b[0m\n\u001b[1;32m     32\u001b[0m env_path \u001b[38;5;241m=\u001b[39m \u001b[38;5;124m\"\u001b[39m\u001b[38;5;124msrc.environment.env\u001b[39m\u001b[38;5;124m\"\u001b[39m\n\u001b[1;32m     33\u001b[0m mod \u001b[38;5;241m=\u001b[39m \u001b[38;5;28m__import__\u001b[39m(env_path, fromlist\u001b[38;5;241m=\u001b[39m[choices_env[name]])\n\u001b[0;32m---> 34\u001b[0m \u001b[38;5;28;01mreturn\u001b[39;00m \u001b[38;5;28;43mgetattr\u001b[39;49m\u001b[43m(\u001b[49m\u001b[43mmod\u001b[49m\u001b[43m,\u001b[49m\u001b[43m \u001b[49m\u001b[43mchoices_env\u001b[49m\u001b[43m[\u001b[49m\u001b[43mname\u001b[49m\u001b[43m]\u001b[49m\u001b[43m)\u001b[49m(settings)\n",
      "\u001b[0;31mAttributeError\u001b[0m: module 'src.environment.env' has no attribute 'BlueBusRedBusEnvironment'"
     ]
    }
   ],
   "source": [
    "nb_childs = [2, 5, 10, 50]\n",
    "res_nexp = []\n",
    "res_exp3 = []\n",
    "res=[]\n",
    "labels=[]\n",
    "exp3_results = []\n",
    "new_results = []\n",
    "\n",
    "for nb_child in nb_childs:\n",
    "    a,b,c,d = do_paradox_experiment(nb_child)\n",
    "    res_exp3.append(list(c))\n",
    "    res_nexp.append(d)\n",
    "    res.append(c)\n",
    "    res.append(d)\n",
    "    labels.append('EXP3 - N {}'.format(nb_child))\n",
    "    labels.append('NEW - N {}'.format(nb_child))\n",
    "    exp3_results.append(a)\n",
    "    new_results.append(b)"
   ]
  }
 ],
 "metadata": {
  "kernelspec": {
   "display_name": "Python 3",
   "language": "python",
   "name": "python3"
  },
  "language_info": {
   "codemirror_mode": {
    "name": "ipython",
    "version": 3
   },
   "file_extension": ".py",
   "mimetype": "text/x-python",
   "name": "python",
   "nbconvert_exporter": "python",
   "pygments_lexer": "ipython3",
   "version": "3.9.6"
  }
 },
 "nbformat": 4,
 "nbformat_minor": 5
}
