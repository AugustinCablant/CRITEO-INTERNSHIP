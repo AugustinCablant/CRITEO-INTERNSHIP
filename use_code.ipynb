{
 "cells": [
  {
   "cell_type": "markdown",
   "id": "55ff2f0a",
   "metadata": {},
   "source": [
    "# Tools to use this repository "
   ]
  },
  {
   "cell_type": "code",
   "execution_count": 8,
   "id": "3e1f6c12",
   "metadata": {},
   "outputs": [
    {
     "name": "stdout",
     "output_type": "stream",
     "text": [
      "zsh:1: command not found: pip\n"
     ]
    }
   ],
   "source": [
    "!pip install -r requirements.txt"
   ]
  },
  {
   "cell_type": "code",
   "execution_count": 4,
   "id": "5fa2b011",
   "metadata": {},
   "outputs": [
    {
     "name": "stdout",
     "output_type": "stream",
     "text": [
      "/Users/a.cablant/Documents/GitHub/CRITEO-INTERNSHIP\n"
     ]
    }
   ],
   "source": [
    "!pwd"
   ]
  },
  {
   "cell_type": "code",
   "execution_count": 9,
   "id": "199cec7d",
   "metadata": {},
   "outputs": [
    {
     "ename": "ModuleNotFoundError",
     "evalue": "No module named 'numpy'",
     "output_type": "error",
     "traceback": [
      "\u001b[0;31m---------------------------------------------------------------------------\u001b[0m",
      "\u001b[0;31mModuleNotFoundError\u001b[0m                       Traceback (most recent call last)",
      "Cell \u001b[0;32mIn[9], line 1\u001b[0m\n\u001b[0;32m----> 1\u001b[0m \u001b[38;5;28;01mimport\u001b[39;00m\u001b[38;5;250m \u001b[39m\u001b[38;5;21;01mnumpy\u001b[39;00m\u001b[38;5;250m \u001b[39m\u001b[38;5;28;01mas\u001b[39;00m\u001b[38;5;250m \u001b[39m\u001b[38;5;21;01mnp\u001b[39;00m\n\u001b[1;32m      2\u001b[0m \u001b[38;5;28;01mfrom\u001b[39;00m\u001b[38;5;250m \u001b[39m\u001b[38;5;21;01mpprint\u001b[39;00m\u001b[38;5;250m \u001b[39m\u001b[38;5;28;01mimport\u001b[39;00m pprint\n",
      "\u001b[0;31mModuleNotFoundError\u001b[0m: No module named 'numpy'"
     ]
    }
   ],
   "source": [
    "import numpy as np\n",
    "from pprint import pprint"
   ]
  },
  {
   "cell_type": "markdown",
   "id": "8753644a",
   "metadata": {},
   "source": [
    "## Tree"
   ]
  },
  {
   "cell_type": "code",
   "execution_count": null,
   "id": "29293990",
   "metadata": {},
   "outputs": [],
   "source": [
    "import numpy as np\n",
    "from pprint import pprint\n",
    "\n",
    "# --- Création de l'arbre et insertion de nœuds ---\n",
    "tree = Tree()\n",
    "\n",
    "# Insertion du nœud racine\n",
    "root = tree.insert(None, (\"A\", 10))  # A est la racine\n",
    "\n",
    "# Insertion de nœuds enfants\n",
    "b, _ = tree.insert(root, (\"B\", 8))\n",
    "c, _ = tree.insert(root, (\"C\", 6))\n",
    "\n",
    "# Niveau 2\n",
    "d, _ = tree.insert(b, (\"D\", 4))\n",
    "e, _ = tree.insert(b, (\"E\", 7))\n",
    "f, _ = tree.insert(c, (\"F\", 5))\n",
    "\n",
    "# Niveau 3\n",
    "tree.insert(d, (\"G\", 2))\n",
    "tree.insert(e, (\"H\", 3))\n",
    "tree.insert(f, (\"I\", 1))\n",
    "tree.insert(f, (\"J\", 9))\n",
    "\n",
    "# --- Affichage des informations sur les nœuds ---\n",
    "print(\"\\n--- Tous les nœuds de l'arbre ---\")\n",
    "all_nodes = tree.get_all_nodes()\n",
    "for node in all_nodes:\n",
    "    print(f\"Nom: {node.name}, Valeur corrigée: {node.value:.4f}, Niveau: {node.level}\")\n",
    "\n",
    "# --- Feuilles de l'arbre ---\n",
    "print(\"\\n--- Feuilles de l'arbre ---\")\n",
    "leaves = tree.get_all_leaves()\n",
    "for leaf in leaves:\n",
    "    print(f\"Nom: {leaf.name}, Valeur corrigée: {leaf.value:.4f}\")\n",
    "\n",
    "# --- Parcours DFS et BFS ---\n",
    "print(\"\\n--- Parcours DFS ---\")\n",
    "dfs_order = tree.iterative_dfs()\n",
    "print(dfs_order)\n",
    "\n",
    "print(\"\\n--- Parcours BFS ---\")\n",
    "bfs_order = tree.iterative_bfs()\n",
    "print(bfs_order)\n",
    "\n",
    "# --- Chemin de la somme maximale ---\n",
    "print(\"\\n--- Chemin avec somme maximale ---\")\n",
    "max_sum, best_path = tree.find_best_arm_path()\n",
    "print(f\"Somme maximale : {max_sum:.4f}\")\n",
    "print(f\"Chemin (index des enfants à chaque étape) : {best_path}\")\n"
   ]
  },
  {
   "cell_type": "markdown",
   "id": "20cf5744",
   "metadata": {},
   "source": []
  }
 ],
 "metadata": {
  "kernelspec": {
   "display_name": "Python 3",
   "language": "python",
   "name": "python3"
  },
  "language_info": {
   "codemirror_mode": {
    "name": "ipython",
    "version": 3
   },
   "file_extension": ".py",
   "mimetype": "text/x-python",
   "name": "python",
   "nbconvert_exporter": "python",
   "pygments_lexer": "ipython3",
   "version": "3.9.6"
  }
 },
 "nbformat": 4,
 "nbformat_minor": 5
}
