{
 "cells": [
  {
   "cell_type": "code",
   "execution_count": 1,
   "id": "17336412",
   "metadata": {},
   "outputs": [],
   "source": [
    "import gym\n",
    "from gym import spaces\n",
    "import numpy as np"
   ]
  },
  {
   "cell_type": "code",
   "execution_count": 2,
   "id": "56a4ca65",
   "metadata": {},
   "outputs": [],
   "source": [
    "class AdEnv(gym.Env):\n",
    "    def __init__(self, n_users=1000, n_ads=10):\n",
    "        super(AdEnv, self).__init__()\n",
    "        self.n_ads = n_ads\n",
    "        self.n_users = n_users\n",
    "        self.action_space = spaces.Discrete(n_ads)\n",
    "        self.observation_space = spaces.Box(low=0, high=1, shape=(10,), dtype=np.float32)\n",
    "\n",
    "        # Simuler des utilisateurs avec CTR (Click-Through Rate) par pub\n",
    "        self.user_profiles = np.random.rand(n_users, 10)\n",
    "        self.ctr_matrix = np.random.rand(n_users, n_ads)\n",
    "        self.current_user = None\n",
    "\n",
    "        self.reset()\n",
    "\n",
    "    def reset(self):\n",
    "        # Tirer un utilisateur au hasard\n",
    "        self.current_user = np.random.randint(self.n_users)\n",
    "        obs = self.user_profiles[self.current_user]\n",
    "        return obs\n",
    "\n",
    "    def step(self, action):\n",
    "        assert self.action_space.contains(action)\n",
    "\n",
    "        ctr = self.ctr_matrix[self.current_user, action]\n",
    "        reward = np.random.binomial(1, ctr)  # 1 si clic, 0 sinon\n",
    "\n",
    "        done = True  # 1 pub = 1 interaction\n",
    "        info = {\"ctr\": ctr}\n",
    "\n",
    "        obs = self.reset()  \n",
    "        return obs, reward, done, info\n"
   ]
  }
 ],
 "metadata": {
  "kernelspec": {
   "display_name": "Python 3",
   "language": "python",
   "name": "python3"
  },
  "language_info": {
   "codemirror_mode": {
    "name": "ipython",
    "version": 3
   },
   "file_extension": ".py",
   "mimetype": "text/x-python",
   "name": "python",
   "nbconvert_exporter": "python",
   "pygments_lexer": "ipython3",
   "version": "3.9.6"
  }
 },
 "nbformat": 4,
 "nbformat_minor": 5
}
