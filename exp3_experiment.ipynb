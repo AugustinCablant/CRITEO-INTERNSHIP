{
 "cells": [
  {
   "cell_type": "code",
   "execution_count": 39,
   "id": "cfc9491a",
   "metadata": {},
   "outputs": [],
   "source": [
    "# IMPORTS\n",
    "import numpy as np \n",
    "import matplotlib.pyplot as plt\n",
    "from tqdm import tqdm\n",
    "import seaborn as sns\n",
    "colors = sns.color_palette('colorblind')"
   ]
  },
  {
   "cell_type": "markdown",
   "id": "e43cad1d",
   "metadata": {},
   "source": [
    "# UNDERSTAND EXP3 ALGORITHM"
   ]
  },
  {
   "cell_type": "markdown",
   "id": "63b25c36",
   "metadata": {},
   "source": [
    "## Pseudo-Regret\n",
    "\n",
    "The **pseudo-regret** $\\bar{R_n}$ after $n$ rounds measures the difference between the expected cumulative loss of the algorithm and that of the best fixed arm in hindsight:\n",
    "\n",
    "$$\n",
    "\\bar{R_n} = \\mathbb{E} \\left[ \\sum_{t=1}^n \\ell_{I_t, t} \\right] - \\min_{i \\in \\{1, ..., K\\}} \\mathbb{E} \\left[ \\sum_{t=1}^n \\ell_{i,t} \\right]\n",
    "$$\n",
    "\n",
    "A small pseudo-regret means the algorithm performs nearly as well as the best fixed arm in retrospect."
   ]
  },
  {
   "cell_type": "markdown",
   "id": "49400ce1",
   "metadata": {},
   "source": [
    "## Exp3 Algorithm (Exponential weights for Exploration and Exploitation)\n",
    "\n",
    "**Parameter:** a non-increasing sequence of real numbers $(\\eta_t)_{t \\in \\mathbb{N}}$.  \n",
    "Let $p_1$ be the uniform distribution over $\\{1, ..., K\\}$.\n",
    "\n",
    "For each round $t = 1, 2, ..., n$:\n",
    "1. Draw an arm $I_t$ according to the probability distribution $p_t$.\n",
    "2. For each arm $i = 1, ..., K$, compute the estimated loss:\n",
    "   $$\n",
    "   \\hat{\\ell}_{i,t} =\n",
    "   \\begin{cases}\n",
    "   \\dfrac{\\ell_{i,t}}{p_{i,t}} & \\text{if } I_t = i \\\\\n",
    "   0 & \\text{otherwise}\n",
    "   \\end{cases}\n",
    "   $$\n",
    "   and update the estimated cumulative loss:\n",
    "   $$\n",
    "   L_{i,t} = L_{i,t-1} + \\hat{\\ell}_{i,t}\n",
    "   $$\n",
    "3. Update the probability distribution over the arms:\n",
    "   $$\n",
    "   p_{i,t+1} = \\frac{\\exp(-\\eta_t L_{i,t})}{\\sum_{k=1}^{K} \\exp(-\\eta_t L_{k,t})}\n",
    "   $$\n"
   ]
  },
  {
   "cell_type": "code",
   "execution_count": 58,
   "id": "5abaf3a4",
   "metadata": {},
   "outputs": [],
   "source": [
    "class Exp3:\n",
    "    def __init__(self):\n",
    "        self.K = 10              #NUMBER OF ARMS\n",
    "        self.EPS = 1e-8          #DO NOT DIVIDE BY 0\n",
    "        self.T = 1_000           #HORIZON\n",
    "        self.nb_episodes = 10    #NB_EPISODES\n",
    "        self.reset()     \n",
    "\n",
    "    def reset(self):\n",
    "        self.total_reward = 0\n",
    "        self.p = np.full(self.K, 1.0 / self.K)   #UNIFORM DISTRIUBUTION\n",
    "        self.L = np.zeros(self.K)\n",
    "        self.environment_observe_losses = np.zeros(self.K)  #TO COMPUTE PSEUDO-REGRET\n",
    "        self.incurred_loss = 0\n",
    "\n",
    "    def compute_loss(self, k):\n",
    "        \"\"\" Simulating the environment \"\"\"\n",
    "        for i in range(self.K):\n",
    "            mean = i / self.K\n",
    "            loss_i = np.random.normal(mean, 0.2)\n",
    "            self.environment_observe_losses[i] += loss_i\n",
    "            if k==i:\n",
    "                loss = loss_i\n",
    "                self.incurred_loss += loss_i\n",
    "        return loss\n",
    "\n",
    "    def perform_experiment(self):\n",
    "        regrets = np.zeros((self.nb_episodes, self.T))\n",
    "        for ep in range(self.nb_episodes):\n",
    "            self.reset()\n",
    "            for t in tqdm(range(self.T)):\n",
    "                eta_t = np.sqrt(2*np.log(self.K)/self.T*self.K)  #DEFINE ETA\n",
    "                I_t = np.random.choice(range(self.K), p=self.p)  #DRAW I_t\n",
    "                l_t = self.compute_loss(I_t)                     #OBSERVE LOSS l_t\n",
    "                l_hat = l_t / (self.p[I_t] + self.EPS)           #COMPUTE THE UNBIASED ESTIMATOR\n",
    "                self.L[I_t] += l_hat                             #UPDATE THE LOSS VECTOR\n",
    "\n",
    "                #UPDATE THE WEIGHTS\n",
    "                weights = np.exp(-eta_t * self.L)\n",
    "                self.p = weights / np.sum(weights)\n",
    "\n",
    "                #THEN COMPUTE THE PSEUDO-REGRET\n",
    "                best_arm = np.argmin(\n",
    "                                self.environment_observe_losses) #ARM WITH LOWEST CUMULATIVE LOSS\n",
    "                PSEUDO_REGRET_t = self.incurred_loss - self.environment_observe_losses[best_arm]\n",
    "                regrets[ep, t] = PSEUDO_REGRET_t\n",
    "\n",
    "        #PLOTTING THE CUMULATIVE PSEUDO-REGRET \n",
    "        reg_plot = plt.figure()\n",
    "        mean_reg = np.mean(regrets, axis=0)\n",
    "        q=10\n",
    "        q_reg = np.percentile(regrets, q, axis=0)\n",
    "        Q_reg = np.percentile(regrets, 100-q, axis=0)\n",
    "        plt.plot(np.arange(self.T), mean_reg, label=\"Exp3 Pseudo-Regret\")\n",
    "        #plt.plot(np.arange(self.T), [np.sqrt(2*self.T*self.K*np.log(self.K))]*self.T, label=\"PSEUDO-REGRET Bound\")\n",
    "        plt.fill_between(np.arange(self.T), q_reg, Q_reg, alpha=0.2)\n",
    "        plt.xlabel('time steps')\n",
    "        plt.ylabel('Cumulative Regret')\n",
    "        plt.legend()\n",
    "        reg_plot.show()\n"
   ]
  },
  {
   "cell_type": "code",
   "execution_count": 59,
   "id": "868fb662",
   "metadata": {},
   "outputs": [
    {
     "name": "stderr",
     "output_type": "stream",
     "text": [
      "100%|██████████| 1000/1000 [00:00<00:00, 26021.35it/s]\n",
      "100%|██████████| 1000/1000 [00:00<00:00, 41607.68it/s]\n",
      "100%|██████████| 1000/1000 [00:00<00:00, 44387.46it/s]\n",
      "100%|██████████| 1000/1000 [00:00<00:00, 42919.90it/s]\n",
      "100%|██████████| 1000/1000 [00:00<00:00, 42792.03it/s]\n",
      "100%|██████████| 1000/1000 [00:00<00:00, 42531.25it/s]\n",
      "100%|██████████| 1000/1000 [00:00<00:00, 42225.95it/s]\n",
      "100%|██████████| 1000/1000 [00:00<00:00, 40992.03it/s]\n",
      "100%|██████████| 1000/1000 [00:00<00:00, 43211.29it/s]\n",
      "100%|██████████| 1000/1000 [00:00<00:00, 44199.42it/s]\n",
      "/var/folders/9x/48xzc29960x71dmw5lhg1xz80000gn/T/ipykernel_16081/1632063215.py:60: UserWarning: Matplotlib is currently using module://matplotlib_inline.backend_inline, which is a non-GUI backend, so cannot show the figure.\n",
      "  reg_plot.show()\n"
     ]
    },
    {
     "data": {
      "image/png": "[encoded data removed]",
      "text/plain": [
       "<Figure size 640x480 with 1 Axes>"
      ]
     },
     "metadata": {},
     "output_type": "display_data"
    }
   ],
   "source": [
    "exp3 = Exp3()\n",
    "exp3.perform_experiment()"
   ]
  },
  {
   "cell_type": "code",
   "execution_count": null,
   "id": "8105e207",
   "metadata": {},
   "outputs": [],
   "source": []
  }
 ],
 "metadata": {
  "kernelspec": {
   "display_name": "Python 3",
   "language": "python",
   "name": "python3"
  },
  "language_info": {
   "codemirror_mode": {
    "name": "ipython",
    "version": 3
   },
   "file_extension": ".py",
   "mimetype": "text/x-python",
   "name": "python",
   "nbconvert_exporter": "python",
   "pygments_lexer": "ipython3",
   "version": "3.9.6"
  }
 },
 "nbformat": 4,
 "nbformat_minor": 5
}
